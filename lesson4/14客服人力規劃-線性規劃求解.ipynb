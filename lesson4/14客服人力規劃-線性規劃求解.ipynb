{
 "cells": [
  {
   "cell_type": "code",
   "execution_count": 2,
   "metadata": {},
   "outputs": [],
   "source": [
    "# import the library pulp as p \n",
    "import pulp as p\n",
    "\n",
    "# 建立線性規劃 求取目標函數的最小值\n",
    "Lp_prob = p.LpProblem('Problem', p.LpMinimize) \n",
    "\n",
    "# 宣告變數(Variables)\n",
    "x = p.LpVariable(\"x\", lowBound = 0) # Create a variable x >= 0 \n",
    "y = p.LpVariable(\"y\", lowBound = 0) # Create a variable y >= 0 \n",
    "\n",
    "# 定義目標函數(Objective Function)\n",
    "Lp_prob += 3 * x + 5 * y \n",
    "\n",
    "# 定義限制條件(Constraints) \n",
    "Lp_prob += 2 * x + 3 * y >= 12\n",
    "Lp_prob += -x + y <= 3\n",
    "Lp_prob += x >= 4\n",
    "Lp_prob += y <= 3"
   ]
  },
  {
   "cell_type": "code",
   "execution_count": 3,
   "metadata": {},
   "outputs": [
    {
     "name": "stdout",
     "output_type": "stream",
     "text": [
      "Problem:\n",
      "MINIMIZE\n",
      "3*x + 5*y + 0\n",
      "SUBJECT TO\n",
      "_C1: 2 x + 3 y >= 12\n",
      "\n",
      "_C2: - x + y <= 3\n",
      "\n",
      "_C3: x >= 4\n",
      "\n",
      "_C4: y <= 3\n",
      "\n",
      "VARIABLES\n",
      "x Continuous\n",
      "y Continuous\n",
      "\n"
     ]
    }
   ],
   "source": [
    "# 顯示問題的定義\n",
    "print(Lp_prob) "
   ]
  },
  {
   "cell_type": "code",
   "execution_count": 4,
   "metadata": {},
   "outputs": [
    {
     "name": "stdout",
     "output_type": "stream",
     "text": [
      "Optimal\n"
     ]
    }
   ],
   "source": [
    "# 求解\n",
    "status = Lp_prob.solve() # Solver \n",
    "print(p.LpStatus[status]) # The solution status "
   ]
  },
  {
   "cell_type": "code",
   "execution_count": 5,
   "metadata": {},
   "outputs": [
    {
     "name": "stdout",
     "output_type": "stream",
     "text": [
      "6.0 0.0 18.0\n"
     ]
    }
   ],
   "source": [
    "# 顯示答案 \n",
    "print(p.value(x), p.value(y), p.value(Lp_prob.objective)) "
   ]
  },
  {
   "cell_type": "code",
   "execution_count": null,
   "metadata": {},
   "outputs": [],
   "source": [
    "# import the library pulp as p \n",
    "import pulp as p \n",
    "\n",
    "# 建立線性規劃 求取目標函數的最小值\n",
    "Lp_prob = p.LpProblem('Problem', p.LpMinimize) \n",
    "\n",
    "# 宣告變數(Variables)\n",
    "x0 = p.LpVariable(\"x0\", 0,None,p.LpInteger) # Create a variable x >= 0 \n",
    "x4 = p.LpVariable(\"x4\", 0,None,p.LpInteger) # Create a variable x >= 0 \n",
    "x8 = p.LpVariable(\"x8\",0,None,p.LpInteger) # Create a variable x >= 0 \n",
    "x12 = p.LpVariable(\"x12\",0,None,p.LpInteger) # Create a variable x >= 0 \n",
    "x16 = p.LpVariable(\"x16\",0,None,p.LpInteger) # Create a variable x >= 0 \n",
    "x20 = p.LpVariable(\"x20\",0,None,p.LpInteger) # Create a variable x >= 0 \n",
    "\n",
    "# 定義目標函數(Objective Function)\n",
    "Lp_prob += x0 + x4 + x8 + x12 + x16 + x20\n",
    "\n",
    "# 定義限制條件(Constraints) \n",
    "Lp_prob += x20+x0>=400\n",
    "Lp_prob += x0+x4>=800\n",
    "Lp_prob += x4+x8>=1000\n",
    "Lp_prob += x8+x12>=800\n",
    "Lp_prob += x12+x16>=1200\n",
    "Lp_prob += x16+x20>=2000\n",
    "\n",
    "# 顯示問題的定義\n",
    "print(Lp_prob) \n",
    "\n",
    "# 求解\n",
    "status = Lp_prob.solve() # Solver \n",
    "print(p.LpStatus[status]) # The solution status \n",
    "\n",
    "# 顯示答案 \n",
    "print('x0={}'.format(p.value(x0)))\n",
    "print('x4={}'.format(p.value(x4)))\n",
    "print('x8={}'.format(p.value(x8)))\n",
    "print('x12={}'.format(p.value(x12)))\n",
    "print('x16={}'.format(p.value(x16)))\n",
    "print('x20={}'.format(p.value(x20)))\n",
    "\n",
    "print('需求總人數={}'.format(p.value(Lp_prob.objective)))"
   ]
  },
  {
   "cell_type": "code",
   "execution_count": 3,
   "metadata": {},
   "outputs": [
    {
     "ename": "TypeError",
     "evalue": "<lambda>() takes 0 positional arguments but 1 was given",
     "output_type": "error",
     "traceback": [
      "\u001b[1;31m---------------------------------------------------------------------------\u001b[0m",
      "\u001b[1;31mTypeError\u001b[0m                                 Traceback (most recent call last)",
      "Cell \u001b[1;32mIn[3], line 2\u001b[0m\n\u001b[0;32m      1\u001b[0m f \u001b[38;5;241m=\u001b[39m \u001b[38;5;28;01mlambda\u001b[39;00m: x\u001b[38;5;241m*\u001b[39m\u001b[38;5;241m*\u001b[39m\u001b[38;5;241m2\u001b[39m\n\u001b[1;32m----> 2\u001b[0m \u001b[43mf\u001b[49m\u001b[43m(\u001b[49m\u001b[38;5;241;43m6\u001b[39;49m\u001b[43m)\u001b[49m\n",
      "\u001b[1;31mTypeError\u001b[0m: <lambda>() takes 0 positional arguments but 1 was given"
     ]
    }
   ],
   "source": [
    "f = lambda: x**2\n",
    "f(6)"
   ]
  },
  {
   "cell_type": "code",
   "execution_count": 8,
   "metadata": {},
   "outputs": [],
   "source": [
    "import numpy as np\n",
    "import matplotlib.pyplot as plt\n",
    "from sympy import Symbol\n"
   ]
  },
  {
   "cell_type": "code",
   "execution_count": null,
   "metadata": {},
   "outputs": [],
   "source": [
    "# 目標函數(損失函數)\n",
    "f = lambda x: x ** 2 - 2 * x + 1\n",
    "\n",
    "# 目標函數的一階導數:dy/dx\n",
    "# df = lambda x: 2 * x - 2\n"
   ]
  },
  {
   "cell_type": "code",
   "execution_count": 7,
   "metadata": {},
   "outputs": [],
   "source": [
    "# 梯度下降函數\n",
    "# x_start: x的起始點\n",
    "# df: 目標函數的一階導數\n",
    "# epochs: 執行週期\n",
    "# lr: 學習率\n",
    "def GD(w_start, epochs, lr):    \n",
    "    w_list = np.zeros(epochs+1)    \n",
    "    w = w_start    \n",
    "    w_list[0] = w    \n",
    "    for i in range(epochs):         \n",
    "        # w更新 w_new = w — learning_rate * gradient        \n",
    "        w -= lr * df(w)         \n",
    "        w_list[i+1] = w    \n",
    "    return w_list"
   ]
  }
 ],
 "metadata": {
  "kernelspec": {
   "display_name": "base",
   "language": "python",
   "name": "python3"
  },
  "language_info": {
   "codemirror_mode": {
    "name": "ipython",
    "version": 3
   },
   "file_extension": ".py",
   "mimetype": "text/x-python",
   "name": "python",
   "nbconvert_exporter": "python",
   "pygments_lexer": "ipython3",
   "version": "3.12.4"
  }
 },
 "nbformat": 4,
 "nbformat_minor": 2
}
